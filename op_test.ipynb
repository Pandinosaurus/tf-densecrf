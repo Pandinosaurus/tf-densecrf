{
 "cells": [
  {
   "cell_type": "code",
   "execution_count": 1,
   "metadata": {},
   "outputs": [
    {
     "name": "stderr",
     "output_type": "stream",
     "text": [
      "/home/bagautdi/anaconda3/lib/python3.6/importlib/_bootstrap.py:219: RuntimeWarning: compiletime version 3.5 of module 'tensorflow.python.framework.fast_tensor_util' does not match runtime version 3.6\n",
      "  return f(*args, **kwds)\n"
     ]
    }
   ],
   "source": [
    "import tensorflow as tf\n",
    "import tensorflow.contrib.slim as slim\n",
    "# NOTE: make sure to build the op\n",
    "filter_ops = tf.load_op_library('./filter_op/build/filter_op.so')\n",
    "\n",
    "import matplotlib.pyplot as plt\n",
    "%matplotlib inline\n",
    "\n",
    "import pickle\n",
    "import numpy as np\n",
    "import timeit\n",
    "\n",
    "import os\n",
    "os.environ['CUDA_VISIBLE_DEVICES'] = '0'"
   ]
  },
  {
   "cell_type": "code",
   "execution_count": 2,
   "metadata": {},
   "outputs": [],
   "source": [
    "def compute_spatial(height, width):\n",
    "    xs = tf.tile(tf.reshape(tf.range(0, width), [1, width, 1]), [height, 1, 1])\n",
    "    ys = tf.tile(tf.reshape(tf.range(0, height), [height, 1, 1]), [1, width, 1])\n",
    "    return tf.cast(tf.concat([xs, ys], 2), tf.float32)\n",
    "\n",
    "def meanfield_op(unary, \n",
    "                 features_sp, features_bl, \n",
    "                 kernel_sp, kernel_bl, kernel_compat,\n",
    "                 n_iters=10, step=None, norm_eps=1e-20, \n",
    "                 name='meanfield'):\n",
    "\n",
    "    with tf.variable_scope(name):\n",
    "        N = unary.get_shape()[0]\n",
    "\n",
    "        norm_feed = tf.ones([N,1], dtype=tf.float32)\n",
    "\n",
    "        # TODO: should we make a batch version?\n",
    "        lattice_sp = filter_ops.permuto_init(features_sp)\n",
    "        norm_sp = 1.0 / (norm_eps + filter_ops.permuto_compute(norm_feed, *lattice_sp))\n",
    "\n",
    "        lattice_bl = filter_ops.permuto_init(features_bl)\n",
    "        norm_bl = 1.0 / (norm_eps + filter_ops.permuto_compute(norm_feed, *lattice_bl))\n",
    "\n",
    "        nats = [unary]\n",
    "        \n",
    "        probs = [slim.softmax(unary)]\n",
    "\n",
    "        for it in range(n_iters):\n",
    "            prob = probs[-1]\n",
    "            msg_sp = tf.matmul(filter_ops.permuto_compute(prob, *lattice_sp) * norm_sp, \n",
    "                               kernel_sp)\n",
    "            msg_bl = tf.matmul(filter_ops.permuto_compute(prob, *lattice_bl) * norm_bl, \n",
    "                               kernel_bl)\n",
    "            pairwise = tf.matmul(msg_sp + msg_bl, kernel_compat)\n",
    "\n",
    "            if step is None:\n",
    "                nats += [unary - pairwise]\n",
    "            else:\n",
    "                nats += [(1.0 - step) * nats[-1] + step * (unary - pairwise)]\n",
    "            probs += [slim.softmax(nats[-1])]\n",
    "        return probs\n"
   ]
  },
  {
   "cell_type": "code",
   "execution_count": 3,
   "metadata": {},
   "outputs": [],
   "source": [
    "# loading inputs\n",
    "in_unaries = np.load('data/input.unaries.npy')\n",
    "in_unaries = np.squeeze(in_unaries).transpose((1,2,0))\n",
    "in_rgb = np.load('data/input.bgr.npy')[:,:,::-1]\n",
    "\n",
    "OH, OW, NC = in_unaries.shape  "
   ]
  },
  {
   "cell_type": "code",
   "execution_count": 4,
   "metadata": {},
   "outputs": [],
   "source": [
    "# building the inference\n",
    "with tf.variable_scope('inference'):\n",
    "    height, width, num_classes = OH, OW, NC\n",
    "\n",
    "    num_bboxes = tf.placeholder(tf.int32, [1], name='num_bboxes')\n",
    "    # TODO: the last dimension can change actually\n",
    "    unary = tf.placeholder(tf.float32, [height*width, num_classes], name='unary')\n",
    "    rgb = tf.placeholder(tf.float32, [height, width, 3], name='rgb')\n",
    "\n",
    "    # various parameters\n",
    "    sxy_sp = tf.placeholder(tf.float32, [])\n",
    "    sxy_bl = tf.placeholder(tf.float32, [])\n",
    "    srgb_bl = tf.placeholder(tf.float32, [])\n",
    "\n",
    "    # TODO: the kernels\n",
    "    kernel_sp = 1.0 * tf.diag(tf.ones(num_bboxes, dtype=np.float32))\n",
    "    kernel_bl = 3.0 * tf.diag(tf.ones(num_bboxes, dtype=np.float32))\n",
    "    kernel_compat = -1.0 * tf.diag(tf.ones(num_bboxes, dtype=np.float32))\n",
    "\n",
    "    # computing features\n",
    "    features_sp = tf.reshape(compute_spatial(height, width) / sxy_sp, \n",
    "                             [height*width, 2])\n",
    "    features_bl = tf.reshape(tf.concat(axis=2, \n",
    "                                       values=[compute_spatial(height, width) / sxy_bl,\n",
    "                                         rgb / srgb_bl]),\n",
    "                           [height*width, 2+3])\n",
    "\n",
    "    probs = meanfield_op(unary, \n",
    "                       features_sp, features_bl, \n",
    "                       kernel_sp, kernel_bl, kernel_compat, \n",
    "                       n_iters=20)"
   ]
  },
  {
   "cell_type": "code",
   "execution_count": 5,
   "metadata": {},
   "outputs": [
    {
     "name": "stdout",
     "output_type": "stream",
     "text": [
      "elapsed: 3.325383199378848\n"
     ]
    },
    {
     "data": {
      "text/plain": [
       "<matplotlib.image.AxesImage at 0x7f4460b1f128>"
      ]
     },
     "execution_count": 5,
     "metadata": {},
     "output_type": "execute_result"
    },
    {
     "data": {
      "image/png": "[encoded data removed]",
      "text/plain": [
       "<matplotlib.figure.Figure at 0x7f4461a3ee80>"
      ]
     },
     "metadata": {},
     "output_type": "display_data"
    }
   ],
   "source": [
    "with tf.Session() as sess:\n",
    "    feed_dict = {\n",
    "        unary : in_unaries.reshape((OH*OW, NC)),\n",
    "        rgb : in_rgb,\n",
    "        num_bboxes : [NC],\n",
    "        sxy_sp : 1.0,\n",
    "        sxy_bl : 3.0,\n",
    "        srgb_bl : 60.0\n",
    "    }\n",
    "\n",
    "    start_time = timeit.default_timer()\n",
    "    _probs = sess.run(probs, feed_dict)[-1].reshape((OH,OW,NC))\n",
    "    print(f'elapsed: {timeit.default_timer() - start_time}')\n",
    "    mask = np.argmax(_probs, axis=2)\n",
    "    \n",
    "plt.figure(figsize=(5, 5))\n",
    "plt.imshow(mask)  \n",
    "    "
   ]
  }
 ],
 "metadata": {
  "kernelspec": {
   "display_name": "Python 3",
   "language": "python",
   "name": "python3"
  },
  "language_info": {
   "codemirror_mode": {
    "name": "ipython",
    "version": 3
   },
   "file_extension": ".py",
   "mimetype": "text/x-python",
   "name": "python",
   "nbconvert_exporter": "python",
   "pygments_lexer": "ipython3",
   "version": "3.6.3"
  }
 },
 "nbformat": 4,
 "nbformat_minor": 1
}
