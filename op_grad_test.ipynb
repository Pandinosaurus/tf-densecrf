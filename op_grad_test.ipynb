{
 "cells": [
  {
   "cell_type": "code",
   "execution_count": 1,
   "metadata": {},
   "outputs": [
    {
     "name": "stderr",
     "output_type": "stream",
     "text": [
      "/home/bagautdi/anaconda3/lib/python3.6/importlib/_bootstrap.py:219: RuntimeWarning: compiletime version 3.5 of module 'tensorflow.python.framework.fast_tensor_util' does not match runtime version 3.6\n",
      "  return f(*args, **kwds)\n"
     ]
    }
   ],
   "source": [
    "import tensorflow as tf\n",
    "import tensorflow.contrib.slim as slim\n",
    "import filter_ops\n",
    "\n",
    "import matplotlib.pyplot as plt\n",
    "%matplotlib inline\n",
    "\n",
    "import pickle\n",
    "import numpy as np\n",
    "import timeit\n",
    "\n",
    "import os\n",
    "os.environ['CUDA_VISIBLE_DEVICES'] = '0'"
   ]
  },
  {
   "cell_type": "code",
   "execution_count": 2,
   "metadata": {},
   "outputs": [
    {
     "name": "stdout",
     "output_type": "stream",
     "text": [
      "max gradient error: 4.416704177856445e-05\n"
     ]
    }
   ],
   "source": [
    "tf.reset_default_graph()\n",
    "\n",
    "probs_shape = [4*4, 21]\n",
    "probs = np.random.normal(size=probs_shape).astype(np.float32)\n",
    "\n",
    "features_shape = [4*4, 3]\n",
    "features = np.random.randint(0, 255, size=features_shape).astype(np.float32)\n",
    "\n",
    "probs = tf.convert_to_tensor(probs)\n",
    "features = tf.convert_to_tensor(features)\n",
    "\n",
    "lattice = filter_ops.permuto_init(features)\n",
    "out = filter_ops.permuto_compute(probs, *lattice)\n",
    "\n",
    "with tf.Session() as sess:\n",
    "    err = tf.test.compute_gradient_error(probs, probs_shape, out, probs_shape)\n",
    "    print(f'max gradient error: {err}')\n"
   ]
  }
 ],
 "metadata": {
  "kernelspec": {
   "display_name": "Python 3",
   "language": "python",
   "name": "python3"
  },
  "language_info": {
   "codemirror_mode": {
    "name": "ipython",
    "version": 3
   },
   "file_extension": ".py",
   "mimetype": "text/x-python",
   "name": "python",
   "nbconvert_exporter": "python",
   "pygments_lexer": "ipython3",
   "version": "3.6.3"
  }
 },
 "nbformat": 4,
 "nbformat_minor": 2
}
