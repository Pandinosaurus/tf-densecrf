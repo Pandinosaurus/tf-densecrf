{
 "cells": [
  {
   "cell_type": "code",
   "execution_count": 12,
   "metadata": {
    "collapsed": true
   },
   "outputs": [],
   "source": [
    "import tensorflow as tf\n",
    "import tensorflow.contrib.slim as slim\n",
    "import filter_ops\n",
    "\n",
    "import matplotlib.pyplot as plt\n",
    "%matplotlib inline\n",
    "\n",
    "import pickle\n",
    "import numpy as np\n",
    "import timeit\n",
    "\n",
    "import os\n",
    "os.environ['CUDA_VISIBLE_DEVICES'] = '2'\n",
    "\n",
    "import datetime\n",
    "def ts(fmt='%d-%m-%y-%H:%M:%S'):\n",
    "    return datetime.datetime.now().strftime(fmt)\n",
    "\n",
    "def tf_config(devices='0'):\n",
    "      return tf.ConfigProto(allow_soft_placement=False,\n",
    "                            gpu_options=tf.GPUOptions(allow_growth=True,\n",
    "                                                      visible_device_list=devices))"
   ]
  },
  {
   "cell_type": "code",
   "execution_count": 13,
   "metadata": {},
   "outputs": [],
   "source": [
    "def relative_error(x, y, norm=np.abs, eps=1e-6):\n",
    "    return norm(x - y) / (np.maximum(norm(x), norm(y)) + eps)"
   ]
  },
  {
   "cell_type": "code",
   "execution_count": 4,
   "metadata": {
    "collapsed": true
   },
   "outputs": [],
   "source": [
    "outputs = {}"
   ]
  },
  {
   "cell_type": "code",
   "execution_count": 43,
   "metadata": {},
   "outputs": [
    {
     "name": "stdout",
     "output_type": "stream",
     "text": [
      "[31-01-18-15:44:03] running forward pass\n",
      "[31-01-18-15:44:03] done!\n"
     ]
    }
   ],
   "source": [
    "# tf.reset_default_graph()\n",
    "\n",
    "# np.random.seed(0)\n",
    "# N, C, F = 64, 8, 3\n",
    "# probs_shape = [N*N, C]\n",
    "# np_probs = np.random.normal(size=probs_shape).astype(np.float32)\n",
    "# features_shape = [N*N, F]\n",
    "# # TODO: \n",
    "# np_features = np.random.normal(0, 1, size=features_shape).astype(np.float32)\n",
    "\n",
    "# probs = tf.convert_to_tensor(np_probs)\n",
    "# features = tf.convert_to_tensor(np_features)\n",
    "# lattice = filter_ops.permuto_init(features)\n",
    "# #impl_type = 'gpu'    \n",
    "# impl_type = 'cpu'    \n",
    "# with tf.device(f'/{impl_type}:0'):\n",
    "#     out = filter_ops.permuto_compute(np_probs, *lattice)\n",
    "    \n",
    "# with tf.Session() as sess:\n",
    "#     print(f'[{ts()}] running forward pass')\n",
    "#     outputs[impl_type] = sess.run(out)\n",
    "#     print(f'[{ts()}] done!')\n",
    "    \n",
    "# #     err = tf.test.compute_gradient_error(probs, probs_shape, out, probs_shape)\n",
    "# #     g_thr, g_num = tf.test.compute_gradient(probs, probs_shape, out, probs_shape)\n",
    "# #     print(f'max gradient error: {err}')\n",
    "# #     rel_err = relative_error(g_thr, g_num, norm=np.linalg.norm).max()\n",
    "# #     print(f'max gradient relative error: {rel_err}')   \n"
   ]
  },
  {
   "cell_type": "code",
   "execution_count": 14,
   "metadata": {
    "collapsed": true
   },
   "outputs": [],
   "source": [
    "tf.reset_default_graph()\n",
    "np.random.seed(0)\n",
    "N, C, F = 64, 8, 3\n",
    "probs_shape = [N*N, C]\n",
    "np_probs = np.random.normal(size=probs_shape).astype(np.float32)\n",
    "features_shape = [N*N, F]\n",
    "np_features = np.random.normal(0, 1, size=features_shape).astype(np.float32)\n",
    "\n",
    "probs = tf.convert_to_tensor(np_probs)\n",
    "features = tf.convert_to_tensor(np_features)\n",
    "lattice = filter_ops.permuto_init(features)"
   ]
  },
  {
   "cell_type": "code",
   "execution_count": 15,
   "metadata": {},
   "outputs": [
    {
     "data": {
      "text/plain": [
       "PermutoInit(offsets=<tf.Tensor 'PermutoInit:0' shape=(48, 4) dtype=int32>, weights=<tf.Tensor 'PermutoInit:1' shape=(48, 4) dtype=float32>, neighbours=<tf.Tensor 'PermutoInit:2' shape=(?, 4, 2) dtype=int32>)"
      ]
     },
     "execution_count": 15,
     "metadata": {},
     "output_type": "execute_result"
    }
   ],
   "source": [
    "lattice"
   ]
  },
  {
   "cell_type": "code",
   "execution_count": 17,
   "metadata": {},
   "outputs": [],
   "source": [
    "with tf.Session(config=tf_config()) as sess:\n",
    "    _lattice = sess.run(lattice)"
   ]
  },
  {
   "cell_type": "code",
   "execution_count": 20,
   "metadata": {},
   "outputs": [
    {
     "data": {
      "text/plain": [
       "(339, 4, 2)"
      ]
     },
     "execution_count": 20,
     "metadata": {},
     "output_type": "execute_result"
    }
   ],
   "source": [
    "_lattice.neighbours.shape"
   ]
  },
  {
   "cell_type": "code",
   "execution_count": null,
   "metadata": {
    "collapsed": true
   },
   "outputs": [],
   "source": [
    "def meanfield_iteration(q, unaries, lattice):\n",
    "    \"\"\"a single iteration of MF inference\"\"\"\n",
    "    # pairwise \"messages\"\n",
    "    pairwise = filter_ops.permuto_compute(q, *lattice)\n",
    "\n",
    "    pass\n"
   ]
  },
  {
   "cell_type": "markdown",
   "metadata": {},
   "source": [
    "## test"
   ]
  },
  {
   "cell_type": "code",
   "execution_count": 6,
   "metadata": {},
   "outputs": [
    {
     "name": "stdout",
     "output_type": "stream",
     "text": [
      "[[  5.86433150e-02   1.89400449e-01   1.19181640e-01 ...,   2.55714864e-01\n",
      "    7.15733543e-02   2.69222111e-01]\n",
      " [  1.17280884e-02   5.35196438e-03   2.50127047e-01 ...,   1.52391821e-01\n",
      "    2.48269543e-01   2.51372427e-01]\n",
      " [  1.83028751e-04   7.37607619e-03   4.21964750e-02 ...,   1.99468061e-02\n",
      "    1.76119953e-02   8.42108548e-01]\n",
      " ..., \n",
      " [  2.40331404e-02   5.13923215e-03   2.04230666e-01 ...,   9.36731324e-03\n",
      "    2.15947688e-01   4.74493802e-01]\n",
      " [  3.66344452e-02   4.01698835e-02   4.29359466e-01 ...,   1.40301846e-02\n",
      "    1.22822402e-02   4.25423771e-01]\n",
      " [  6.11266660e-05   2.09598657e-04   3.34815383e-02 ...,   3.17112952e-02\n",
      "    1.64064090e-03   9.24607098e-01]]\n"
     ]
    }
   ],
   "source": [
    "import numpy as np\n",
    "import pydensecrf.densecrf as dcrf\n",
    "\n",
    "N, C, F = 64, 8, 3\n",
    "np.random.seed(0)\n",
    "probs_shape = [N*N, C]\n",
    "np_probs = np.random.normal(size=probs_shape).astype(np.float32)\n",
    "features_shape = [N*N, F]\n",
    "np_features = np.random.normal(0, 1, size=features_shape).astype(np.float32)\n",
    "\n",
    "crf = dcrf.DenseCRF(N*N, C)\n",
    "crf.setUnaryEnergy(np_probs.T.copy())\n",
    "crf.addPairwiseEnergy(np_features.T.copy(), \n",
    "                      1.0,\n",
    "                      dcrf.CONST_KERNEL,\n",
    "                      dcrf.NO_NORMALIZATION)\n",
    "q, tmp1, tmp2 = crf.startInference()\n",
    "crf.stepInference(q, tmp1, tmp2)\n",
    "print(np.array(q).T)"
   ]
  },
  {
   "cell_type": "code",
   "execution_count": 8,
   "metadata": {},
   "outputs": [
    {
     "data": {
      "text/plain": [
       "(4096, 8)"
      ]
     },
     "execution_count": 8,
     "metadata": {},
     "output_type": "execute_result"
    }
   ],
   "source": [
    "np.array(q).T.shape"
   ]
  },
  {
   "cell_type": "code",
   "execution_count": 49,
   "metadata": {},
   "outputs": [
    {
     "name": "stdout",
     "output_type": "stream",
     "text": [
      "max error = 0.0\n",
      "max error = 0.0\n"
     ]
    }
   ],
   "source": [
    "for it in ['cpu', 'gpu']:\n",
    "    print(f'max error = {np.max(np.array(q).T - outputs[it])}')"
   ]
  },
  {
   "cell_type": "code",
   "execution_count": 26,
   "metadata": {},
   "outputs": [
    {
     "name": "stdout",
     "output_type": "stream",
     "text": [
      "[[ -1.32233858  -1.22623873   1.18854332 ...,  -3.55239964   1.46188354\n",
      "   -5.01913691]\n",
      " [ -8.3676424   -9.25286961  -6.0343504  ...,  -7.51579475  -8.66574097\n",
      "  -13.19216824]\n",
      " [  1.53489137  -1.75268912   4.22882366 ...,   1.98597836   4.20744038\n",
      "   -6.21151829]\n",
      " ..., \n",
      " [ -1.02936697  -1.78678703   1.35178769 ..., -11.20064735   2.3003726\n",
      "   -3.34708738]\n",
      " [ -0.99986696   0.24824369   1.07701159 ...,   2.9248414   -0.18105268\n",
      "   -2.16538239]\n",
      " [  5.52563763   4.48496437   4.42841959 ...,   3.40074778  -6.25938272\n",
      "  -13.26993847]]\n"
     ]
    }
   ],
   "source": [
    "def np_softmax(logits, axis=None):\n",
    "    l_max = np.max(logits, axis=axis, keepdims=True)\n",
    "    l_exp = np.exp(logits - l_max)\n",
    "    return l_exp / np.sum(l_exp, axis=axis, keepdims=True)\n",
    "\n",
    "def np_pdist(X):\n",
    "    \"\"\"computes pairwise distances\n",
    "    Args:\n",
    "        X - [N, D] matrix of N points\n",
    "    Returns:\n",
    "        [N, N] matrix\n",
    "    \"\"\"\n",
    "    X2 = np.sum(np.square(X), axis=1, keepdims=True)\n",
    "    return X2 - 2 * np.dot(X, X.T) + X2.T\n",
    "\n",
    "#q_in = np_softmax(-np.ones([N*N, C]), axis=1)\n",
    "dists = np_pdist(np_features)\n",
    "kernels = np.exp(-dists / 2.0) \n",
    "msgs = np.matmul(kernels, np_probs)\n",
    "print(msgs)"
   ]
  },
  {
   "cell_type": "code",
   "execution_count": 35,
   "metadata": {},
   "outputs": [
    {
     "data": {
      "text/plain": [
       "12.487908"
      ]
     },
     "execution_count": 35,
     "metadata": {},
     "output_type": "execute_result"
    }
   ],
   "source": [
    "np.abs(outputs['cpu'] - msgs)"
   ]
  },
  {
   "cell_type": "code",
   "execution_count": null,
   "metadata": {
    "collapsed": true
   },
   "outputs": [],
   "source": [
    "\n",
    "\n",
    "def np_q_update(q_in, unaries, features, compat):\n",
    "    dists = np_pdist(np_features)\n",
    "    kernels = np.exp(-dists / 2.0)\n",
    "    msgs = np.matmul(kernels, q_in) - q_in\n",
    "    q_up = np_softmax(unaries - compat * msgs, axis=1) \n",
    "    return q_up\n",
    "\n",
    "q_in = np_softmax(-np_probs, axis=1)\n",
    "q_up = np_q_update(q_in, -np_probs, np_features, 1.0)\n",
    "\n",
    "# print(np.mean(np.abs(q_up - np.array(q).T)))\n",
    "# print(np.mean(np.abs(q_in - np.array(q).T)))"
   ]
  },
  {
   "cell_type": "code",
   "execution_count": null,
   "metadata": {
    "collapsed": true
   },
   "outputs": [],
   "source": []
  },
  {
   "cell_type": "code",
   "execution_count": null,
   "metadata": {
    "collapsed": true
   },
   "outputs": [],
   "source": []
  },
  {
   "cell_type": "markdown",
   "metadata": {},
   "source": [
    "## reference implementation"
   ]
  },
  {
   "cell_type": "code",
   "execution_count": null,
   "metadata": {
    "collapsed": true
   },
   "outputs": [],
   "source": [
    "from scipy.stats import multivariate_normal\n",
    "\n",
    "H, W, NLABELS = 400, 512, 2\n",
    "\n",
    "# This creates a gaussian blob...\n",
    "pos = np.stack(np.mgrid[0:H, 0:W], axis=2)\n",
    "rv = multivariate_normal([H//2, W//2], (H//4)*(W//4))\n",
    "probs = rv.pdf(pos)\n",
    "\n",
    "# ...which we project into the range [0.4, 0.6]\n",
    "probs = (probs-probs.min()) / (probs.max()-probs.min())\n",
    "probs = 0.5 + 0.2 * (probs-0.5)\n",
    "\n",
    "# The first dimension needs to be equal to the number of classes.\n",
    "# Let's have one \"foreground\" and one \"background\" class.\n",
    "# So replicate the gaussian blob but invert it to create the probability\n",
    "# of the \"background\" class to be the opposite of \"foreground\".\n",
    "probs = np.tile(probs[np.newaxis,:,:],(2,1,1))\n",
    "probs[1,:,:] = 1 - probs[0,:,:]\n",
    "\n",
    "# Let's have a look:\n",
    "plt.figure(figsize=(15,5))\n",
    "plt.subplot(1,2,1)\n",
    "plt.imshow(probs[0,:,:])\n",
    "plt.title('Foreground probability')\n",
    "plt.axis('off')\n",
    "plt.colorbar()\n",
    "plt.subplot(1,2,2) \n",
    "plt.imshow(probs[1,:,:])\n",
    "plt.title('Background probability')\n",
    "plt.axis('off')\n",
    "plt.colorbar()\n",
    "\n",
    "\n",
    "# vanilla densecrf\n",
    "import pydensecrf.densecrf as dcrf\n",
    "from pydensecrf.utils import unary_from_softmax, create_pairwise_bilateral\n",
    "\n",
    "# Inference without pair-wise terms\n",
    "U = unary_from_softmax(probs)  # note: num classes is first dim\n",
    "d = dcrf.DenseCRF2D(W, H, NLABELS)\n",
    "d.setUnaryEnergy(U)\n",
    "\n",
    "# Run inference for 10 iterations\n",
    "Q_unary = d.inference(10)\n",
    "\n",
    "# The Q is now the approximate posterior, we can get a MAP estimate using argmax.\n",
    "map_soln_unary = np.argmax(Q_unary, axis=0)\n",
    "\n",
    "# Unfortunately, the DenseCRF flattens everything, so get it back into picture form.\n",
    "map_soln_unary = map_soln_unary.reshape((H,W))\n",
    "\n",
    "# And let's have a look.\n",
    "plt.imshow(map_soln_unary); plt.axis('off'); plt.title('MAP Solution without pairwise terms');\n",
    "\n",
    "\n",
    "NCHAN=1\n",
    "\n",
    "# Create simple image which will serve as bilateral.\n",
    "# Note that we put the channel dimension last here,\n",
    "# but we could also have it be the first dimension and\n",
    "# just change the `chdim` parameter to `0` further down.\n",
    "img = np.zeros((H,W,NCHAN), np.uint8)\n",
    "img[H//3:2*H//3,W//4:3*W//4,:] = 1\n",
    "\n",
    "plt.imshow(img[:,:,0]); plt.title('Bilateral image'); plt.axis('off'); plt.colorbar();\n",
    "\n",
    "# Create the pairwise bilateral term from the above image.\n",
    "# The two `s{dims,chan}` parameters are model hyper-parameters defining\n",
    "# the strength of the location and image content bilaterals, respectively.\n",
    "pairwise_energy = create_pairwise_bilateral(sdims=(10,10), schan=(0.01,), img=img, chdim=2)"
   ]
  },
  {
   "cell_type": "code",
   "execution_count": null,
   "metadata": {
    "collapsed": true
   },
   "outputs": [],
   "source": [
    "# pairwise_energy now contains as many dimensions as the DenseCRF has features,\n",
    "# which in this case is 3: (x,y,channel1)\n",
    "img_en = pairwise_energy.reshape((-1, H, W))  # Reshape just for plotting\n",
    "plt.figure(figsize=(15,5))\n",
    "plt.subplot(1,3,1); plt.imshow(img_en[0]); plt.title('Pairwise bilateral [x]'); plt.axis('off'); plt.colorbar();\n",
    "plt.subplot(1,3,2); plt.imshow(img_en[1]); plt.title('Pairwise bilateral [y]'); plt.axis('off'); plt.colorbar();\n",
    "plt.subplot(1,3,3); plt.imshow(img_en[2]); plt.title('Pairwise bilateral [c]'); plt.axis('off'); plt.colorbar();\n",
    "\n",
    "\n",
    "d = dcrf.DenseCRF2D(W, H, NLABELS)\n",
    "d.setUnaryEnergy(U)\n",
    "d.addPairwiseEnergy(pairwise_energy, compat=10)  # `compat` is the \"strength\" of this potential.\n",
    "\n",
    "# This time, let's do inference in steps ourselves\n",
    "# so that we can look at intermediate solutions\n",
    "# as well as monitor KL-divergence, which indicates\n",
    "# how well we have converged.\n",
    "# PyDenseCRF also requires us to keep track of two\n",
    "# temporary buffers it needs for computations.\n",
    "Q, tmp1, tmp2 = d.startInference()\n",
    "for _ in range(5):\n",
    "    d.stepInference(Q, tmp1, tmp2)\n",
    "kl1 = d.klDivergence(Q) / (H*W)\n",
    "map_soln1 = np.argmax(Q, axis=0).reshape((H,W))\n",
    "\n",
    "for _ in range(20):\n",
    "    d.stepInference(Q, tmp1, tmp2)\n",
    "kl2 = d.klDivergence(Q) / (H*W)\n",
    "map_soln2 = np.argmax(Q, axis=0).reshape((H,W))\n",
    "\n",
    "for _ in range(50):\n",
    "    d.stepInference(Q, tmp1, tmp2)\n",
    "kl3 = d.klDivergence(Q) / (H*W)\n",
    "map_soln3 = np.argmax(Q, axis=0).reshape((H,W))\n",
    "\n",
    "img_en = pairwise_energy.reshape((-1, H, W))  # Reshape just for plotting\n",
    "plt.figure(figsize=(15,5))\n",
    "plt.subplot(1,3,1); plt.imshow(map_soln1);\n",
    "plt.title('MAP Solution with DenseCRF\\n(5 steps, KL={:.2f})'.format(kl1)); plt.axis('off');\n",
    "plt.subplot(1,3,2); plt.imshow(map_soln2);\n",
    "plt.title('MAP Solution with DenseCRF\\n(20 steps, KL={:.2f})'.format(kl2)); plt.axis('off');\n",
    "plt.subplot(1,3,3); plt.imshow(map_soln3);\n",
    "plt.title('MAP Solution with DenseCRF\\n(75 steps, KL={:.2f})'.format(kl3)); plt.axis('off');"
   ]
  }
 ],
 "metadata": {
  "kernelspec": {
   "display_name": "Python 3",
   "language": "python",
   "name": "python3"
  },
  "language_info": {
   "codemirror_mode": {
    "name": "ipython",
    "version": 3
   },
   "file_extension": ".py",
   "mimetype": "text/x-python",
   "name": "python",
   "nbconvert_exporter": "python",
   "pygments_lexer": "ipython3",
   "version": "3.6.3"
  }
 },
 "nbformat": 4,
 "nbformat_minor": 2
}
