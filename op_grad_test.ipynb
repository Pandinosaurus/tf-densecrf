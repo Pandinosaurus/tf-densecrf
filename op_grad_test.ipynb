{
 "cells": [
  {
   "cell_type": "code",
   "execution_count": 1,
   "metadata": {},
   "outputs": [],
   "source": [
    "import tensorflow as tf\n",
    "import tensorflow.contrib.slim as slim\n",
    "import filter_ops\n",
    "\n",
    "import matplotlib.pyplot as plt\n",
    "%matplotlib inline\n",
    "\n",
    "import pickle\n",
    "import numpy as np\n",
    "import timeit\n",
    "\n",
    "import os\n",
    "os.environ['CUDA_VISIBLE_DEVICES'] = '1'"
   ]
  },
  {
   "cell_type": "code",
   "execution_count": 2,
   "metadata": {},
   "outputs": [
    {
     "name": "stdout",
     "output_type": "stream",
     "text": [
      "max gradient error (C++): 0.0005471110343933105\n"
     ]
    },
    {
     "name": "stderr",
     "output_type": "stream",
     "text": [
      "/home/bagautdi/anaconda3/lib/python3.6/site-packages/tensorflow/python/ops/gradients_impl.py:96: UserWarning: Converting sparse IndexedSlices to a dense Tensor of unknown shape. This may consume a large amount of memory.\n",
      "  \"Converting sparse IndexedSlices to a dense Tensor of unknown shape. \"\n"
     ]
    },
    {
     "name": "stdout",
     "output_type": "stream",
     "text": [
      "max gradient error (TF): 0.00043904781341552734\n"
     ]
    }
   ],
   "source": [
    "tf.reset_default_graph()\n",
    "\n",
    "np.random.seed(0)\n",
    "probs_shape = [4*4, 8]\n",
    "probs = np.random.normal(size=probs_shape).astype(np.float32)\n",
    "\n",
    "features_shape = [4*4, 3]\n",
    "#features = np.random.randint(0, 255, size=features_shape).astype(np.float32) \n",
    "features = np.random.normal(0, 10, size=features_shape).astype(np.float32)\n",
    "\n",
    "probs = tf.convert_to_tensor(probs)\n",
    "features = tf.convert_to_tensor(features)\n",
    "\n",
    "lattice = filter_ops.permuto_init(features)\n",
    "out_cpp = filter_ops.permuto_compute(probs, *lattice)\n",
    "out_tf = filter_ops.ph_filter(probs, lattice)\n",
    "\n",
    "with tf.Session() as sess:\n",
    "    err = tf.test.compute_gradient_error(probs, probs_shape, out_cpp, probs_shape, \n",
    "                                         delta=1e-4)\n",
    "    print(f'max gradient error (C++): {err}')\n",
    "\n",
    "    err = tf.test.compute_gradient_error(probs, probs_shape, out_tf, probs_shape, \n",
    "                                         delta=1e-4)\n",
    "    print(f'max gradient error (TF): {err}')\n",
    "    "
   ]
  }
 ],
 "metadata": {
  "kernelspec": {
   "display_name": "Python 3",
   "language": "python",
   "name": "python3"
  },
  "language_info": {
   "codemirror_mode": {
    "name": "ipython",
    "version": 3
   },
   "file_extension": ".py",
   "mimetype": "text/x-python",
   "name": "python",
   "nbconvert_exporter": "python",
   "pygments_lexer": "ipython3",
   "version": "3.6.3"
  }
 },
 "nbformat": 4,
 "nbformat_minor": 2
}
